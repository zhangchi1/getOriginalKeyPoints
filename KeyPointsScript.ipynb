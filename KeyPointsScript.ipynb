{
 "cells": [
  {
   "cell_type": "markdown",
   "metadata": {},
   "source": [
    "### Convert body key points to its original image size body key points"
   ]
  },
  {
   "cell_type": "markdown",
   "metadata": {},
   "source": [
    "#### Input an image and its key points txt file, return the original image size body key points as a new txt file"
   ]
  },
  {
   "cell_type": "code",
   "execution_count": 28,
   "metadata": {},
   "outputs": [],
   "source": [
    "import cv2\n",
    "import numpy as np\n",
    "from matplotlib import pyplot as plt\n",
    "import os\n",
    "import glob\n",
    "import json\n",
    "\n",
    "scaledX = 600;\n",
    "scaledY = 400;"
   ]
  },
  {
   "cell_type": "code",
   "execution_count": 4,
   "metadata": {},
   "outputs": [],
   "source": [
    "# define a function input the scaled image key points return the original image key points as a np ndarray\n",
    "# scaleX, scaleY: size of the scaled image\n",
    "# oriX, oriY: size of the original image\n",
    "def getOriginalKeyPoints(scaleX, scaleY, scalePoints, oriX, oriY):\n",
    "    numRow = scalePoints.shape[0]; # 13 for 1 person\n",
    "    numCol = scalePoints.shape[1]; # 4 columns: person index, key point index, x, y\n",
    "    temp = np.empty([numRow, numCol]);\n",
    "    temp[:,0:2] = scalePoints[:,0:2];\n",
    "    for row in range(0, numRow):\n",
    "        for i in range(2,4):\n",
    "            temp_i = scalePoints[row][i]\n",
    "            temp_i = temp_i[temp_i.find(':')+1:]\n",
    "            if temp_i == 'N/A':\n",
    "                temp[row][i] = np.NaN;\n",
    "            else:\n",
    "                if i == 2:\n",
    "#                     update x position of the original image\n",
    "                    temp[row][i] = int(float(temp_i) * (oriX / scaleX)); \n",
    "                else:\n",
    "#                     update y position of the original image\n",
    "                    temp[row][i] = int(float(temp_i) * (oriY / scaleY)); \n",
    "    return temp;"
   ]
  },
  {
   "cell_type": "code",
   "execution_count": 23,
   "metadata": {},
   "outputs": [],
   "source": [
    "# define a function input a directory, which contains original images and the corresponding scaled key points\n",
    "# return and save all the original key points in a new folder named 'originalTxt'\n",
    "# directory: the directory, where original images and the scaled key points stored. Sample:'Image&txt/'\n",
    "# dType: save the original key points as either json or txt format, by typing 'json' and 'txt' respectively\n",
    "def getAllOriKeyPoints(directory, dType):\n",
    "    listImage = sorted(glob.glob(directory + '*.jpg'));\n",
    "    listTxt = sorted(glob.glob(directory + '*.txt'));\n",
    "    for i in range(0, len(listImage)):\n",
    "        img = cv2.imread(listImage[i]);\n",
    "        Ysize = img.shape[0];\n",
    "        Xsize = img.shape[1];\n",
    "        file = np.loadtxt(listTxt[i], dtype='str', delimiter=',', unpack=True, usecols=range(4));\n",
    "        scalePoints = np.transpose(file);\n",
    "        oriKeyPoints = getOriginalKeyPoints(scaledX, scaledY, scalePoints, Xsize, Ysize);\n",
    "        if dType == 'txt':\n",
    "            np.savetxt('originalTxt' + listTxt[i][listTxt[i].find('/'):], oriKeyPoints, delimiter=',', fmt='%.2f');\n",
    "        else:\n",
    "            j1 = json.loads(json.dumps(oriKeyPoints.tolist()));\n",
    "            with open('originalTxt' + listTxt[i][listTxt[i].find('/'):listTxt[i].find('.')] + '.json', 'w') as outfile:\n",
    "                json.dump(j1, outfile)\n",
    "        "
   ]
  },
  {
   "cell_type": "code",
   "execution_count": 24,
   "metadata": {},
   "outputs": [],
   "source": [
    "\n",
    "# define a function input the original image and its original key points\n",
    "# print those key points on the given image\n",
    "def printKeyPoints(image, keyPoints): \n",
    "    new = cv2.circle(image, (int(keyPoints[0][2]),int(keyPoints[0][3])), 5, (0,0,255), 3)\n",
    "    for i in range(1,13):\n",
    "        if not np.isnan(keyPoints[i][2]):\n",
    "            new = cv2.circle(new, (int(keyPoints[i][2]),int(keyPoints[i][3])), 5, (0,0,255),3)\n",
    "    cv2.imshow('image',new)\n"
   ]
  },
  {
   "cell_type": "markdown",
   "metadata": {},
   "source": [
    "### Tests"
   ]
  },
  {
   "cell_type": "code",
   "execution_count": 25,
   "metadata": {
    "collapsed": true
   },
   "outputs": [],
   "source": [
    "#Test for getAllOriKeyPoints function\n",
    "# save all key points as json files in the originalTxt folder\n",
    "getAllOriKeyPoints('Image&txt/', 'json')"
   ]
  },
  {
   "cell_type": "code",
   "execution_count": 8,
   "metadata": {},
   "outputs": [
    {
     "name": "stdout",
     "output_type": "stream",
     "text": [
      "[[0.000e+00 0.000e+00 1.082e+03 4.730e+02]\n",
      " [0.000e+00 1.000e+00 1.020e+03 4.980e+02]\n",
      " [0.000e+00 2.000e+00 9.120e+02 5.200e+02]\n",
      " [0.000e+00 3.000e+00 8.260e+02 5.340e+02]\n",
      " [0.000e+00 4.000e+00 8.160e+02 4.800e+02]\n",
      " [0.000e+00 5.000e+00 6.830e+02 3.450e+02]\n",
      " [0.000e+00 6.000e+00 7.280e+02 4.950e+02]\n",
      " [0.000e+00 7.000e+00       nan       nan]\n",
      " [0.000e+00 8.000e+00       nan       nan]\n",
      " [0.000e+00 9.000e+00       nan       nan]\n",
      " [0.000e+00 1.000e+01       nan       nan]\n",
      " [0.000e+00 1.100e+01       nan       nan]\n",
      " [0.000e+00 1.200e+01       nan       nan]]\n"
     ]
    }
   ],
   "source": [
    "# Test for getOriginalKeyPoints function\n",
    "file = np.loadtxt('Image&txt/XOTGz-1vizY_00032.txt', dtype='str', delimiter=',', unpack=True, usecols=range(4))\n",
    "file1 = np.transpose(file);\n",
    "list1 = getOriginalKeyPoints(600, 400, file1, Xsize, Ysize)\n",
    "print(list1)\n",
    "# np.savetxt('originalTxt/test.txt', list1, delimiter=',', fmt='%.2f')"
   ]
  },
  {
   "cell_type": "code",
   "execution_count": 26,
   "metadata": {},
   "outputs": [],
   "source": [
    "#Test for printKeyPoints function\n",
    "image1 = cv2.imread(sorted(glob.glob('Image&txt/' + '*.jpg'))[0]);\n",
    "Ysize = image1.shape[0];\n",
    "Xsize = image1.shape[1];\n",
    "scaledKeyPoints1 = sorted(glob.glob('Image&txt/' + '*.txt'))[0];\n",
    "scaledKeyPoints1 = np.loadtxt(scaledKeyPoints1, dtype='str', delimiter=',', unpack=True, usecols=range(4));\n",
    "scaledKeyPoints1 = np.transpose(scaledKeyPoints1);\n",
    "\n",
    "oriKeyPoints1 = getOriginalKeyPoints(600, 400, scaledKeyPoints1, Xsize, Ysize);\n",
    "\n",
    "printKeyPoints(image1, oriKeyPoints1);\n",
    "\n",
    "#cv2.destroyAllWindows()"
   ]
  },
  {
   "cell_type": "code",
   "execution_count": null,
   "metadata": {
    "collapsed": true
   },
   "outputs": [],
   "source": []
  }
 ],
 "metadata": {
  "anaconda-cloud": {},
  "kernelspec": {
   "display_name": "Python [Root]",
   "language": "python",
   "name": "Python [Root]"
  },
  "language_info": {
   "codemirror_mode": {
    "name": "ipython",
    "version": 3
   },
   "file_extension": ".py",
   "mimetype": "text/x-python",
   "name": "python",
   "nbconvert_exporter": "python",
   "pygments_lexer": "ipython3",
   "version": "3.5.2"
  }
 },
 "nbformat": 4,
 "nbformat_minor": 1
}
